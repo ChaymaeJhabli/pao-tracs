{
 "cells": [
  {
   "cell_type": "code",
   "execution_count": 1,
   "metadata": {},
   "outputs": [
    {
     "name": "stdout",
     "output_type": "stream",
     "text": [
      "Decryption complete. Check flag.jpg for the result.\n"
     ]
    }
   ],
   "source": [
    "from Crypto.Cipher import AES\n",
    "\n",
    "# Parameters\n",
    "key = bytes.fromhex(\"00112233445566778899aabbccddeeff\")\n",
    "iv = bytes([0] * 16)  # All-zero IV\n",
    "\n",
    "# Read the encrypted file\n",
    "with open(\"flag.jpg.enc\", \"rb\") as enc_file:\n",
    "    ciphertext = enc_file.read()\n",
    "\n",
    "# Initialize AES-CTR cipher\n",
    "cipher = AES.new(key, AES.MODE_CTR, nonce=b\"\", initial_value=iv)\n",
    "\n",
    "# Decrypt the ciphertext\n",
    "plaintext = cipher.decrypt(ciphertext)\n",
    "\n",
    "# Save the decrypted file\n",
    "with open(\"flag.jpg\", \"wb\") as dec_file:\n",
    "    dec_file.write(plaintext)\n",
    "\n",
    "print(\"Decryption complete. Check flag.jpg for the result.\")\n"
   ]
  }
 ],
 "metadata": {
  "kernelspec": {
   "display_name": "Python 3",
   "language": "python",
   "name": "python3"
  },
  "language_info": {
   "codemirror_mode": {
    "name": "ipython",
    "version": 3
   },
   "file_extension": ".py",
   "mimetype": "text/x-python",
   "name": "python",
   "nbconvert_exporter": "python",
   "pygments_lexer": "ipython3",
   "version": "3.9.6"
  }
 },
 "nbformat": 4,
 "nbformat_minor": 2
}
