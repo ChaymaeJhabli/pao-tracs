{
 "cells": [
  {
   "cell_type": "code",
   "execution_count": 1,
   "metadata": {},
   "outputs": [
    {
     "name": "stdout",
     "output_type": "stream",
     "text": [
      "Encrypted hex string: f049de59cbdc9189170787b20b24f7426ccb9515e8b0250f3fc0f0c14ed7bb1d4b42c09d02fe01e0973a7233d99af55ce696f599050142759adc26796d64e0d6035f2fc39d2edb8a0797a9e45ae4cd55074cf99158d3a64dc70a7e836e3b30382df30de49ba60a\n",
      "PIN: 6273\n",
      "Flag: FCSC{c1feab88e6c6932c57fbaf0c1ff6c32e51f07ae87197fcd08956be4408b2c802}\n",
      "\n"
     ]
    }
   ],
   "source": [
    "from Crypto.Cipher import AES\n",
    "from Crypto.Protocol.KDF import scrypt\n",
    "from Crypto.Util.number import long_to_bytes\n",
    "\n",
    "# get The encrypted hex string from output.txt\n",
    "file = \"output.txt\"\n",
    "with open(file, \"r\") as f:\n",
    "    enc_hex = f.read().strip()\n",
    "\n",
    "print(f\"Encrypted hex string: {enc_hex}\")\n",
    "\n",
    "# Convert the hex string back to bytes\n",
    "enc = bytes.fromhex(enc_hex)\n",
    "\n",
    "# Extract the nonce, ciphertext, and tag\n",
    "nonce = enc[:16]\n",
    "ciphertext = enc[16:-16]\n",
    "tag = enc[-16:]\n",
    "\n",
    "# Brute-force all possible 4-digit PINs\n",
    "for pin in range(10000):\n",
    "    try:\n",
    "        # Derive the key using scrypt\n",
    "        k = scrypt(long_to_bytes(pin), b\"FCSC\", 32, N=2**10, r=8, p=1)\n",
    "        \n",
    "        # Decrypt the ciphertext\n",
    "        aes = AES.new(k, AES.MODE_GCM, nonce=nonce)\n",
    "        flag = aes.decrypt_and_verify(ciphertext, tag)\n",
    "        \n",
    "        # If decryption is successful, print the PIN and the flag\n",
    "        print(f\"PIN: {pin}\")\n",
    "        print(f\"Flag: {flag.decode()}\")\n",
    "        break\n",
    "    except (ValueError, KeyError):\n",
    "        # If decryption fails, continue to the next PIN\n",
    "        continue"
   ]
  },
  {
   "cell_type": "code",
   "execution_count": null,
   "metadata": {},
   "outputs": [],
   "source": []
  }
 ],
 "metadata": {
  "kernelspec": {
   "display_name": "Python 3",
   "language": "python",
   "name": "python3"
  },
  "language_info": {
   "codemirror_mode": {
    "name": "ipython",
    "version": 3
   },
   "file_extension": ".py",
   "mimetype": "text/x-python",
   "name": "python",
   "nbconvert_exporter": "python",
   "pygments_lexer": "ipython3",
   "version": "3.10.7"
  }
 },
 "nbformat": 4,
 "nbformat_minor": 2
}
